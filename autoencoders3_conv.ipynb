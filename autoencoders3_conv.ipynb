{
 "cells": [
  {
   "cell_type": "code",
   "execution_count": 1,
   "metadata": {},
   "outputs": [
    {
     "name": "stderr",
     "output_type": "stream",
     "text": [
      "Using TensorFlow backend.\n"
     ]
    }
   ],
   "source": [
    "from keras.layers import Input, Dense, Conv2D, MaxPooling2D, UpSampling2D\n",
    "from keras.models import Model\n",
    "from keras import backend as K\n",
    "\n",
    "from keras.callbacks import TensorBoard\n",
    "\n",
    "from keras.datasets import mnist\n",
    "import numpy as np\n",
    "import matplotlib.pyplot as plt"
   ]
  },
  {
   "cell_type": "code",
   "execution_count": 2,
   "metadata": {
    "collapsed": true
   },
   "outputs": [],
   "source": [
    "num_epochs = 2"
   ]
  },
  {
   "cell_type": "code",
   "execution_count": 3,
   "metadata": {
    "collapsed": true
   },
   "outputs": [],
   "source": [
    "input_img = Input(shape=(28, 28, 1))  # adapt this if using `channels_first` image data format"
   ]
  },
  {
   "cell_type": "code",
   "execution_count": 4,
   "metadata": {},
   "outputs": [
    {
     "data": {
      "text/plain": [
       "<tf.Tensor 'max_pooling2d_3/MaxPool:0' shape=(?, 4, 4, 8) dtype=float32>"
      ]
     },
     "execution_count": 4,
     "metadata": {},
     "output_type": "execute_result"
    }
   ],
   "source": [
    "x = Conv2D(16, (3, 3), activation='relu', padding='same')(input_img)\n",
    "x = MaxPooling2D((2, 2), padding='same')(x)\n",
    "x = Conv2D(8, (3, 3), activation='relu', padding='same')(x)\n",
    "x = MaxPooling2D((2, 2), padding='same')(x)\n",
    "x = Conv2D(8, (3, 3), activation='relu', padding='same')(x)\n",
    "encoded = MaxPooling2D((2, 2), padding='same')(x)\n",
    "encoded\n",
    "# at this point the representation is (4, 4, 8) i.e. 128-dimensional\n",
    "# 8 is no of feature maps"
   ]
  },
  {
   "cell_type": "code",
   "execution_count": 5,
   "metadata": {},
   "outputs": [
    {
     "data": {
      "text/plain": [
       "<tf.Tensor 'conv2d_7/Sigmoid:0' shape=(?, 28, 28, 1) dtype=float32>"
      ]
     },
     "execution_count": 5,
     "metadata": {},
     "output_type": "execute_result"
    }
   ],
   "source": [
    "x = Conv2D(8, (3, 3), activation='relu', padding='same')(encoded)\n",
    "x = UpSampling2D((2, 2))(x)\n",
    "x = Conv2D(8, (3, 3), activation='relu', padding='same')(x)\n",
    "x = UpSampling2D((2, 2))(x)\n",
    "x = Conv2D(16, (3, 3), activation='relu')(x)\n",
    "x = UpSampling2D((2, 2))(x)\n",
    "# collapse the feature maps\n",
    "decoded = Conv2D(1, (3, 3), activation='sigmoid', padding='same')(x)\n",
    "decoded"
   ]
  },
  {
   "cell_type": "code",
   "execution_count": 6,
   "metadata": {},
   "outputs": [
    {
     "name": "stdout",
     "output_type": "stream",
     "text": [
      "_________________________________________________________________\n",
      "Layer (type)                 Output Shape              Param #   \n",
      "=================================================================\n",
      "input_1 (InputLayer)         (None, 28, 28, 1)         0         \n",
      "_________________________________________________________________\n",
      "conv2d_1 (Conv2D)            (None, 28, 28, 16)        160       \n",
      "_________________________________________________________________\n",
      "max_pooling2d_1 (MaxPooling2 (None, 14, 14, 16)        0         \n",
      "_________________________________________________________________\n",
      "conv2d_2 (Conv2D)            (None, 14, 14, 8)         1160      \n",
      "_________________________________________________________________\n",
      "max_pooling2d_2 (MaxPooling2 (None, 7, 7, 8)           0         \n",
      "_________________________________________________________________\n",
      "conv2d_3 (Conv2D)            (None, 7, 7, 8)           584       \n",
      "_________________________________________________________________\n",
      "max_pooling2d_3 (MaxPooling2 (None, 4, 4, 8)           0         \n",
      "_________________________________________________________________\n",
      "conv2d_4 (Conv2D)            (None, 4, 4, 8)           584       \n",
      "_________________________________________________________________\n",
      "up_sampling2d_1 (UpSampling2 (None, 8, 8, 8)           0         \n",
      "_________________________________________________________________\n",
      "conv2d_5 (Conv2D)            (None, 8, 8, 8)           584       \n",
      "_________________________________________________________________\n",
      "up_sampling2d_2 (UpSampling2 (None, 16, 16, 8)         0         \n",
      "_________________________________________________________________\n",
      "conv2d_6 (Conv2D)            (None, 14, 14, 16)        1168      \n",
      "_________________________________________________________________\n",
      "up_sampling2d_3 (UpSampling2 (None, 28, 28, 16)        0         \n",
      "_________________________________________________________________\n",
      "conv2d_7 (Conv2D)            (None, 28, 28, 1)         145       \n",
      "=================================================================\n",
      "Total params: 4,385\n",
      "Trainable params: 4,385\n",
      "Non-trainable params: 0\n",
      "_________________________________________________________________\n"
     ]
    }
   ],
   "source": [
    "autoencoder = Model(input_img, decoded)\n",
    "autoencoder.summary()"
   ]
  },
  {
   "cell_type": "code",
   "execution_count": 7,
   "metadata": {
    "collapsed": true
   },
   "outputs": [],
   "source": [
    "autoencoder.compile(optimizer='adadelta', loss='binary_crossentropy')"
   ]
  },
  {
   "cell_type": "code",
   "execution_count": 8,
   "metadata": {},
   "outputs": [
    {
     "name": "stdout",
     "output_type": "stream",
     "text": [
      "_________________________________________________________________\n",
      "Layer (type)                 Output Shape              Param #   \n",
      "=================================================================\n",
      "input_1 (InputLayer)         (None, 28, 28, 1)         0         \n",
      "_________________________________________________________________\n",
      "conv2d_1 (Conv2D)            (None, 28, 28, 16)        160       \n",
      "_________________________________________________________________\n",
      "max_pooling2d_1 (MaxPooling2 (None, 14, 14, 16)        0         \n",
      "_________________________________________________________________\n",
      "conv2d_2 (Conv2D)            (None, 14, 14, 8)         1160      \n",
      "_________________________________________________________________\n",
      "max_pooling2d_2 (MaxPooling2 (None, 7, 7, 8)           0         \n",
      "_________________________________________________________________\n",
      "conv2d_3 (Conv2D)            (None, 7, 7, 8)           584       \n",
      "_________________________________________________________________\n",
      "max_pooling2d_3 (MaxPooling2 (None, 4, 4, 8)           0         \n",
      "=================================================================\n",
      "Total params: 1,904\n",
      "Trainable params: 1,904\n",
      "Non-trainable params: 0\n",
      "_________________________________________________________________\n"
     ]
    }
   ],
   "source": [
    "#Let's also create a separate encoder model:\n",
    "\n",
    "# this model maps an input to its encoded representation\n",
    "encoder = Model(input_img, encoded)\n",
    "encoder.summary()"
   ]
  },
  {
   "cell_type": "code",
   "execution_count": 9,
   "metadata": {
    "collapsed": true
   },
   "outputs": [],
   "source": [
    "#To train it, we will use the original MNIST digits with shape (samples, 3, 28, 28),\n",
    "# no flattening!!\n",
    "# and we will just normalize pixel values between 0 and 1.\n",
    "\n",
    "(x_train, _), (x_test, _) = mnist.load_data()\n",
    "\n",
    "x_train = x_train.astype('float32') / 255.\n",
    "x_test = x_test.astype('float32') / 255.\n",
    "x_train = np.reshape(x_train, (len(x_train), 28, 28, 1))  # adapt this if using `channels_first` image data format\n",
    "x_test = np.reshape(x_test, (len(x_test), 28, 28, 1))  # adapt this if using `channels_first` image data format"
   ]
  },
  {
   "cell_type": "code",
   "execution_count": 10,
   "metadata": {},
   "outputs": [
    {
     "name": "stdout",
     "output_type": "stream",
     "text": [
      "Train on 60000 samples, validate on 10000 samples\n",
      "Epoch 1/2\n",
      "60000/60000 [==============================] - 63s - loss: 0.2384 - val_loss: 0.1760\n",
      "Epoch 2/2\n",
      "60000/60000 [==============================] - 60s - loss: 0.1653 - val_loss: 0.1566\n"
     ]
    },
    {
     "data": {
      "text/plain": [
       "<keras.callbacks.History at 0x7f2d93804048>"
      ]
     },
     "execution_count": 10,
     "metadata": {},
     "output_type": "execute_result"
    }
   ],
   "source": [
    "autoencoder.fit(x_train, x_train,\n",
    "                epochs=num_epochs,\n",
    "                batch_size=128,\n",
    "                shuffle=True,\n",
    "                validation_data=(x_test, x_test),\n",
    "                callbacks=[TensorBoard(log_dir='/tmp/autoencoder')])"
   ]
  },
  {
   "cell_type": "code",
   "execution_count": 11,
   "metadata": {},
   "outputs": [
    {
     "data": {
      "text/plain": [
       "(10000, 28, 28, 1)"
      ]
     },
     "execution_count": 11,
     "metadata": {},
     "output_type": "execute_result"
    }
   ],
   "source": [
    "# predict on test set\n",
    "decoded_imgs = autoencoder.predict(x_test)\n",
    "decoded_imgs.shape"
   ]
  },
  {
   "cell_type": "code",
   "execution_count": 12,
   "metadata": {},
   "outputs": [
    {
     "data": {
      "image/png": "[encoded data removed]",
      "text/plain": [
       "<matplotlib.figure.Figure at 0x7f2d9378d128>"
      ]
     },
     "metadata": {},
     "output_type": "display_data"
    }
   ],
   "source": [
    "\n",
    "n = 10\n",
    "plt.figure(figsize=(20, 4))\n",
    "for i in range(n):\n",
    "    # display original\n",
    "    ax = plt.subplot(2, n, i+1)\n",
    "    plt.imshow(x_test[i].reshape(28, 28))\n",
    "    plt.gray()\n",
    "    ax.get_xaxis().set_visible(False)\n",
    "    ax.get_yaxis().set_visible(False)\n",
    "\n",
    "    # display reconstruction\n",
    "    ax = plt.subplot(2, n, i + 1 +n)\n",
    "    plt.imshow(decoded_imgs[i].reshape(28, 28))\n",
    "    plt.gray()\n",
    "    ax.get_xaxis().set_visible(False)\n",
    "    ax.get_yaxis().set_visible(False)\n",
    "plt.show()"
   ]
  },
  {
   "cell_type": "code",
   "execution_count": 13,
   "metadata": {},
   "outputs": [
    {
     "name": "stdout",
     "output_type": "stream",
     "text": [
      "[[[  0.00000000e+00   0.00000000e+00   8.71756268e+00   1.91928780e+00\n",
      "     1.90417099e+00   0.00000000e+00   5.76481485e+00   0.00000000e+00]\n",
      "  [  0.00000000e+00   3.53932285e+00   8.39964390e+00   6.05317926e+00\n",
      "     0.00000000e+00   0.00000000e+00   1.37268019e+01   0.00000000e+00]\n",
      "  [  4.55213130e-01   3.42062068e+00   6.77200699e+00   4.71708298e+00\n",
      "     0.00000000e+00   0.00000000e+00   1.25002308e+01   0.00000000e+00]\n",
      "  [  0.00000000e+00   3.96940064e+00   0.00000000e+00   2.31871200e+00\n",
      "     0.00000000e+00   7.20063299e-02   6.17269945e+00   2.01860979e-01]]\n",
      "\n",
      " [[  2.58232212e+00   1.63336265e+00   1.30299063e+01   2.64779240e-01\n",
      "     6.94269037e+00   0.00000000e+00   6.00515604e+00   0.00000000e+00]\n",
      "  [  0.00000000e+00   1.90722871e+00   1.84182968e+01   9.37522793e+00\n",
      "     1.40524750e+01   0.00000000e+00   1.52463951e+01   0.00000000e+00]\n",
      "  [  0.00000000e+00   5.25665760e+00   1.89973793e+01   1.16585989e+01\n",
      "     6.01207495e+00   0.00000000e+00   1.86460762e+01   4.38993454e+00]\n",
      "  [  0.00000000e+00   1.23737812e+00   1.21699262e+00   8.61727619e+00\n",
      "     4.04510498e+00   1.71350336e+00   8.15718842e+00   5.36666298e+00]]\n",
      "\n",
      " [[  3.93552870e-01   1.11738279e-01   3.71845341e+00   1.91279650e+00\n",
      "     3.20001101e+00   1.69731639e-02   1.22061443e+00   1.33722275e-02]\n",
      "  [  2.52983660e-01   3.74767423e+00   1.80149384e+01   3.75917363e+00\n",
      "     6.00672913e+00   0.00000000e+00   1.75823689e+01   0.00000000e+00]\n",
      "  [  0.00000000e+00   4.49204493e+00   1.36245289e+01   1.18778963e+01\n",
      "     4.89853954e+00   1.15914357e+00   1.95679016e+01   6.58844328e+00]\n",
      "  [  0.00000000e+00   0.00000000e+00   0.00000000e+00   4.77469969e+00\n",
      "     3.55017638e+00   1.79414976e+00   7.42871702e-01   3.53128052e+00]]\n",
      "\n",
      " [[  3.11788821e+00   1.89082658e+00   4.80367136e+00   8.06126952e-01\n",
      "     4.13566494e+00   2.32271887e-02   5.93299568e-01   0.00000000e+00]\n",
      "  [  2.21312428e+00   2.56077671e+00   1.72809486e+01   7.35580492e+00\n",
      "     7.30747175e+00   0.00000000e+00   1.63569622e+01   1.80720198e+00]\n",
      "  [  0.00000000e+00   0.00000000e+00   4.76199150e+00   1.23212633e+01\n",
      "     5.04570484e+00   1.57015061e+00   8.96254158e+00   6.93520021e+00]\n",
      "  [  0.00000000e+00   8.10253173e-02   1.03568435e-01   1.89412281e-01\n",
      "     6.10508397e-02   9.61275995e-02   8.26530457e-02   2.32117295e-01]]]\n",
      "[[  0.00000000e+00   0.00000000e+00   8.71756268e+00   1.91928780e+00\n",
      "    1.90417099e+00   0.00000000e+00   5.76481485e+00   0.00000000e+00\n",
      "    0.00000000e+00   3.53932285e+00   8.39964390e+00   6.05317926e+00\n",
      "    0.00000000e+00   0.00000000e+00   1.37268019e+01   0.00000000e+00\n",
      "    4.55213130e-01   3.42062068e+00   6.77200699e+00   4.71708298e+00\n",
      "    0.00000000e+00   0.00000000e+00   1.25002308e+01   0.00000000e+00\n",
      "    0.00000000e+00   3.96940064e+00   0.00000000e+00   2.31871200e+00\n",
      "    0.00000000e+00   7.20063299e-02   6.17269945e+00   2.01860979e-01]\n",
      " [  2.58232212e+00   1.63336265e+00   1.30299063e+01   2.64779240e-01\n",
      "    6.94269037e+00   0.00000000e+00   6.00515604e+00   0.00000000e+00\n",
      "    0.00000000e+00   1.90722871e+00   1.84182968e+01   9.37522793e+00\n",
      "    1.40524750e+01   0.00000000e+00   1.52463951e+01   0.00000000e+00\n",
      "    0.00000000e+00   5.25665760e+00   1.89973793e+01   1.16585989e+01\n",
      "    6.01207495e+00   0.00000000e+00   1.86460762e+01   4.38993454e+00\n",
      "    0.00000000e+00   1.23737812e+00   1.21699262e+00   8.61727619e+00\n",
      "    4.04510498e+00   1.71350336e+00   8.15718842e+00   5.36666298e+00]\n",
      " [  3.93552870e-01   1.11738279e-01   3.71845341e+00   1.91279650e+00\n",
      "    3.20001101e+00   1.69731639e-02   1.22061443e+00   1.33722275e-02\n",
      "    2.52983660e-01   3.74767423e+00   1.80149384e+01   3.75917363e+00\n",
      "    6.00672913e+00   0.00000000e+00   1.75823689e+01   0.00000000e+00\n",
      "    0.00000000e+00   4.49204493e+00   1.36245289e+01   1.18778963e+01\n",
      "    4.89853954e+00   1.15914357e+00   1.95679016e+01   6.58844328e+00\n",
      "    0.00000000e+00   0.00000000e+00   0.00000000e+00   4.77469969e+00\n",
      "    3.55017638e+00   1.79414976e+00   7.42871702e-01   3.53128052e+00]\n",
      " [  3.11788821e+00   1.89082658e+00   4.80367136e+00   8.06126952e-01\n",
      "    4.13566494e+00   2.32271887e-02   5.93299568e-01   0.00000000e+00\n",
      "    2.21312428e+00   2.56077671e+00   1.72809486e+01   7.35580492e+00\n",
      "    7.30747175e+00   0.00000000e+00   1.63569622e+01   1.80720198e+00\n",
      "    0.00000000e+00   0.00000000e+00   4.76199150e+00   1.23212633e+01\n",
      "    5.04570484e+00   1.57015061e+00   8.96254158e+00   6.93520021e+00\n",
      "    0.00000000e+00   8.10253173e-02   1.03568435e-01   1.89412281e-01\n",
      "    6.10508397e-02   9.61275995e-02   8.26530457e-02   2.32117295e-01]]\n",
      "[[  0.00000000e+00   2.58232212e+00   3.93552870e-01   3.11788821e+00]\n",
      " [  0.00000000e+00   1.63336265e+00   1.11738279e-01   1.89082658e+00]\n",
      " [  8.71756268e+00   1.30299063e+01   3.71845341e+00   4.80367136e+00]\n",
      " [  1.91928780e+00   2.64779240e-01   1.91279650e+00   8.06126952e-01]\n",
      " [  1.90417099e+00   6.94269037e+00   3.20001101e+00   4.13566494e+00]\n",
      " [  0.00000000e+00   0.00000000e+00   1.69731639e-02   2.32271887e-02]\n",
      " [  5.76481485e+00   6.00515604e+00   1.22061443e+00   5.93299568e-01]\n",
      " [  0.00000000e+00   0.00000000e+00   1.33722275e-02   0.00000000e+00]\n",
      " [  0.00000000e+00   0.00000000e+00   2.52983660e-01   2.21312428e+00]\n",
      " [  3.53932285e+00   1.90722871e+00   3.74767423e+00   2.56077671e+00]\n",
      " [  8.39964390e+00   1.84182968e+01   1.80149384e+01   1.72809486e+01]\n",
      " [  6.05317926e+00   9.37522793e+00   3.75917363e+00   7.35580492e+00]\n",
      " [  0.00000000e+00   1.40524750e+01   6.00672913e+00   7.30747175e+00]\n",
      " [  0.00000000e+00   0.00000000e+00   0.00000000e+00   0.00000000e+00]\n",
      " [  1.37268019e+01   1.52463951e+01   1.75823689e+01   1.63569622e+01]\n",
      " [  0.00000000e+00   0.00000000e+00   0.00000000e+00   1.80720198e+00]\n",
      " [  4.55213130e-01   0.00000000e+00   0.00000000e+00   0.00000000e+00]\n",
      " [  3.42062068e+00   5.25665760e+00   4.49204493e+00   0.00000000e+00]\n",
      " [  6.77200699e+00   1.89973793e+01   1.36245289e+01   4.76199150e+00]\n",
      " [  4.71708298e+00   1.16585989e+01   1.18778963e+01   1.23212633e+01]\n",
      " [  0.00000000e+00   6.01207495e+00   4.89853954e+00   5.04570484e+00]\n",
      " [  0.00000000e+00   0.00000000e+00   1.15914357e+00   1.57015061e+00]\n",
      " [  1.25002308e+01   1.86460762e+01   1.95679016e+01   8.96254158e+00]\n",
      " [  0.00000000e+00   4.38993454e+00   6.58844328e+00   6.93520021e+00]\n",
      " [  0.00000000e+00   0.00000000e+00   0.00000000e+00   0.00000000e+00]\n",
      " [  3.96940064e+00   1.23737812e+00   0.00000000e+00   8.10253173e-02]\n",
      " [  0.00000000e+00   1.21699262e+00   0.00000000e+00   1.03568435e-01]\n",
      " [  2.31871200e+00   8.61727619e+00   4.77469969e+00   1.89412281e-01]\n",
      " [  0.00000000e+00   4.04510498e+00   3.55017638e+00   6.10508397e-02]\n",
      " [  7.20063299e-02   1.71350336e+00   1.79414976e+00   9.61275995e-02]\n",
      " [  6.17269945e+00   8.15718842e+00   7.42871702e-01   8.26530457e-02]\n",
      " [  2.01860979e-01   5.36666298e+00   3.53128052e+00   2.32117295e-01]]\n"
     ]
    },
    {
     "data": {
      "image/png": "[encoded data removed]",
      "text/plain": [
       "<matplotlib.figure.Figure at 0x7f2d8c046e48>"
      ]
     },
     "metadata": {},
     "output_type": "display_data"
    }
   ],
   "source": [
    "#We can also have a look at the 128-dimensional encoded representations. \n",
    "#These representations are 4x4x8, so we reshape them to 4x32 in order to be able to display them as grayscale images.\n",
    "\n",
    "encoded_imgs = encoder.predict(x_test)\n",
    "\n",
    "n = 10\n",
    "plt.figure(figsize=(20, 8))\n",
    "for i in range(n):\n",
    "    \n",
    "    if i == 0: \n",
    "        #print(encoded_imgs[i])\n",
    "        #print(encoded_imgs[i].reshape(4, 4 * 8))\n",
    "        #print(encoded_imgs[i].reshape(4, 4 * 8).T)\n",
    "        \n",
    "    ax = plt.subplot(1, n, i+1)\n",
    "    plt.imshow(encoded_imgs[i].reshape(4, 4 * 8).T)\n",
    "    plt.gray()\n",
    "    ax.get_xaxis().set_visible(False)\n",
    "    ax.get_yaxis().set_visible(False)\n",
    "plt.show()\n"
   ]
  },
  {
   "cell_type": "code",
   "execution_count": null,
   "metadata": {
    "collapsed": true
   },
   "outputs": [],
   "source": []
  }
 ],
 "metadata": {
  "kernelspec": {
   "display_name": "Python 3",
   "language": "python",
   "name": "python3"
  },
  "language_info": {
   "codemirror_mode": {
    "name": "ipython",
    "version": 3
   },
   "file_extension": ".py",
   "mimetype": "text/x-python",
   "name": "python",
   "nbconvert_exporter": "python",
   "pygments_lexer": "ipython3",
   "version": "3.5.3"
  }
 },
 "nbformat": 4,
 "nbformat_minor": 2
}
